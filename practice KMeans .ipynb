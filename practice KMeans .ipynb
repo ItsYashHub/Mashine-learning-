{
 "cells": [
  {
   "cell_type": "code",
   "execution_count": null,
   "id": "1c53824e-6985-40e2-a86b-0350b71c3fff",
   "metadata": {},
   "outputs": [],
   "source": [
    "# Import the required libraries\n",
    "import numpy as np\n",
    "import pandas as pd\n",
    "import matplotlib.pyplot as plt\n",
    "%matplotlib inline\n",
    "import warnings\n",
    "warnings.filterwarnings('ignore')"
   ]
  },
  {
   "cell_type": "code",
   "execution_count": null,
   "id": "86320e25-f820-4e6d-91c1-bff37cf5891b",
   "metadata": {},
   "outputs": [],
   "source": [
    "# Load the dataset\n",
    "data = pd.read_csv('iris.csv')\n",
    "\n",
    "# checking the first 5 rows of our dataset\n",
    "data.head()"
   ]
  },
  {
   "cell_type": "code",
   "execution_count": null,
   "id": "8488a026-1fa3-42ad-a506-4ff534a3f179",
   "metadata": {},
   "outputs": [],
   "source": [
    "data.target.value_counts()"
   ]
  },
  {
   "cell_type": "code",
   "execution_count": null,
   "id": "e8f8d6b5-72ba-4d35-adf3-0bd9368e5d7f",
   "metadata": {},
   "outputs": [],
   "source": [
    "# Quick summary of the data\n",
    "data.info()"
   ]
  },
  {
   "cell_type": "markdown",
   "id": "b818bf80-1b96-4b39-b94c-2d0a2687306a",
   "metadata": {},
   "source": [
    "## EDA"
   ]
  },
  {
   "cell_type": "code",
   "execution_count": null,
   "id": "81b8dc1e-834c-4b4d-9be7-269086879630",
   "metadata": {},
   "outputs": [],
   "source": [
    "import seaborn as sns\n",
    "df=data[['sepal_length', 'sepal_width', 'petal_length','petal_width']]\n",
    "# Creating dataframe only for numerical features."
   ]
  },
  {
   "cell_type": "code",
   "execution_count": null,
   "id": "0cf75f8c-d2d0-4bd4-914f-98f1127cb04e",
   "metadata": {},
   "outputs": [],
   "source": [
    "sns.pairplot(df)"
   ]
  },
  {
   "cell_type": "code",
   "execution_count": null,
   "id": "c0fbbd6d-1dbf-4584-999f-07da53e126d3",
   "metadata": {},
   "outputs": [],
   "source": [
    "# Statistical information of the dataset\n",
    "data.describe()"
   ]
  },
  {
   "cell_type": "code",
   "execution_count": null,
   "id": "451dba5b-507e-4b67-a676-d60df93d0433",
   "metadata": {},
   "outputs": [],
   "source": [
    "# Check for null values\n",
    "data.isnull().sum()"
   ]
  },
  {
   "cell_type": "code",
   "execution_count": null,
   "id": "8b9c2c42-c459-4617-8a4d-d90e058f4da6",
   "metadata": {},
   "outputs": [],
   "source": [
    "# Drop the unnamed column in the dataset\n",
    "data.drop('Unnamed: 0', axis=1, inplace=True)"
   ]
  },
  {
   "cell_type": "code",
   "execution_count": null,
   "id": "d14543b6-404c-488d-b0cd-c1516c1ceee7",
   "metadata": {},
   "outputs": [],
   "source": [
    "data.head()"
   ]
  },
  {
   "cell_type": "markdown",
   "id": "e1722136-9510-4e1d-ac78-c6deec08efef",
   "metadata": {},
   "source": [
    "## Model Building"
   ]
  },
  {
   "cell_type": "code",
   "execution_count": null,
   "id": "ab251fbf-382f-4fb2-b765-21feedd163a8",
   "metadata": {},
   "outputs": [],
   "source": [
    "data"
   ]
  },
  {
   "cell_type": "code",
   "execution_count": null,
   "id": "c8c30e72-a64f-491a-b224-bc9a81b2aa34",
   "metadata": {},
   "outputs": [],
   "source": [
    "# Since it is an unsupervised learning, we need only the input variables\n",
    "X= data.iloc[:,:-1]\n",
    "X.head()"
   ]
  },
  {
   "cell_type": "code",
   "execution_count": null,
   "id": "4a365040-64df-4106-a54c-852d6cd81a64",
   "metadata": {},
   "outputs": [],
   "source": [
    "# Import KMeans Algorithm from Scikit-learn library\n",
    "from sklearn.cluster import KMeans\n",
    "\n",
    "\n",
    "# Initialise the model with K as 3\n",
    "model = KMeans(n_clusters=3, random_state=10)\n",
    "\n",
    "#Training the model\n",
    "model.fit(X)"
   ]
  },
  {
   "cell_type": "code",
   "execution_count": null,
   "id": "354756b5-23ff-4551-bab6-8cc94472b4ec",
   "metadata": {},
   "outputs": [],
   "source": [
    "X.shape"
   ]
  },
  {
   "cell_type": "code",
   "execution_count": null,
   "id": "9f96cf92-d705-49ba-a1db-2939e2ea3459",
   "metadata": {},
   "outputs": [],
   "source": [
    "# centroids of the clusters\n",
    "model.cluster_centers_"
   ]
  },
  {
   "cell_type": "code",
   "execution_count": null,
   "id": "175ae20a-b281-493a-999a-fd9d1dc846e1",
   "metadata": {},
   "outputs": [],
   "source": [
    "# Set colours to the clusters to differentiate(Not required in main impelemntation)\n",
    "color_scheme = np.array(['red','blue','green','yellow','pink','cyan'])"
   ]
  },
  {
   "cell_type": "code",
   "execution_count": null,
   "id": "cc7239db-04ea-4320-b568-29f12ebc7fcf",
   "metadata": {},
   "outputs": [],
   "source": [
    "color_scheme"
   ]
  },
  {
   "cell_type": "code",
   "execution_count": null,
   "id": "535eff1d-0abd-4671-ab56-6a81680e86d5",
   "metadata": {},
   "outputs": [],
   "source": [
    "# Visualize the clusters in the original data(Not required in main impelemntation)\n",
    "plt.scatter(data.petal_length,data.petal_width,color=color_scheme[data.target])"
   ]
  },
  {
   "cell_type": "code",
   "execution_count": null,
   "id": "749c33ad-ba91-4ec1-b64a-242bc39a351e",
   "metadata": {},
   "outputs": [],
   "source": [
    "model.labels_"
   ]
  },
  {
   "cell_type": "code",
   "execution_count": null,
   "id": "e880088e-528d-4faa-a2df-3b20b3cc6840",
   "metadata": {},
   "outputs": [],
   "source": [
    "# visualize the clusters formed by the model(Not required in main impelemntation)\n",
    "plt.scatter(X.petal_length,X.petal_width,color=color_scheme[model.labels_]);"
   ]
  },
  {
   "cell_type": "code",
   "execution_count": null,
   "id": "edf0987f-cba1-4ad1-bbb3-0001cbe50adb",
   "metadata": {},
   "outputs": [],
   "source": [
    "X"
   ]
  },
  {
   "cell_type": "code",
   "execution_count": null,
   "id": "a19f839d-edd2-40ce-825c-f108c3981faf",
   "metadata": {},
   "outputs": [],
   "source": [
    "# print dataset with the label\n",
    "X['Group']= pd.DataFrame(model.labels_)\n",
    "X.head()"
   ]
  },
  {
   "cell_type": "code",
   "execution_count": null,
   "id": "c1ecb0ca-a898-4a88-9b1a-308048941477",
   "metadata": {},
   "outputs": [],
   "source": [
    "data.tail(10)"
   ]
  },
  {
   "cell_type": "code",
   "execution_count": null,
   "id": "ef55741a-a079-42a9-ba3a-00e921c1f651",
   "metadata": {},
   "outputs": [],
   "source": [
    "new_point=[[4.3,3.5,1.5,0.4]] \n",
    "#means which cluster\n",
    "model.predict(new_point)"
   ]
  },
  {
   "cell_type": "code",
   "execution_count": null,
   "id": "3cc94243-4c8f-47e0-96f1-3f8e4e8ee43d",
   "metadata": {},
   "outputs": [],
   "source": [
    "type(new_point)"
   ]
  },
  {
   "cell_type": "code",
   "execution_count": null,
   "id": "9b899a81-6cba-47e1-803e-e0b314834d0b",
   "metadata": {},
   "outputs": [],
   "source": [
    "list "
   ]
  },
  {
   "cell_type": "code",
   "execution_count": null,
   "id": "06105fb5-7dd0-45cd-af59-c610cdcaf16b",
   "metadata": {},
   "outputs": [],
   "source": [
    "X"
   ]
  },
  {
   "cell_type": "code",
   "execution_count": null,
   "id": "853823ab-6139-40af-9129-942c73adc72a",
   "metadata": {},
   "outputs": [],
   "source": [
    "\n",
    "from sklearn.cluster import KMeans\n",
    "wcss=[]\n",
    "for i in range (1,11):\n",
    "    kmeans=KMeans(n_clusters=i,random_state=42)\n",
    "    kmeans.fit(X)\n",
    "    wcss.append(kmeans.inertia_)\n",
    "plt.plot(range(1,11),wcss)\n",
    "plt.title('The Elbow Method')\n",
    "plt.xlabel('Number of clusters')\n",
    "plt.ylabel('WCSS')\n",
    "plt.show()"
   ]
  },
  {
   "cell_type": "code",
   "execution_count": null,
   "id": "da7798ce-d9c0-4d93-afe5-9aa1fb081d4b",
   "metadata": {},
   "outputs": [],
   "source": [
    "label=model.labels_\n",
    "label\n",
    "\n",
    "from sklearn.metrics import silhouette_score\n",
    "score=silhouette_score(X,label)\n",
    "score"
   ]
  }
 ],
 "metadata": {
  "kernelspec": {
   "display_name": "Python 3 (ipykernel)",
   "language": "python",
   "name": "python3"
  },
  "language_info": {
   "codemirror_mode": {
    "name": "ipython",
    "version": 3
   },
   "file_extension": ".py",
   "mimetype": "text/x-python",
   "name": "python",
   "nbconvert_exporter": "python",
   "pygments_lexer": "ipython3",
   "version": "3.12.4"
  }
 },
 "nbformat": 4,
 "nbformat_minor": 5
}
