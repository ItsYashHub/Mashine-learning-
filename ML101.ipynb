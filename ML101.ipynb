{
 "cells": [
  {
   "cell_type": "code",
   "execution_count": 1,
   "id": "a5055dc8-42cf-449e-8c88-1ac83f4d63d5",
   "metadata": {},
   "outputs": [],
   "source": [
    "###  tell me the library you use ? ( 10 to 15 name to tell them)\n",
    "###  why you use the numpy ?\n",
    "###  learn 10 to 15 name of library!\n",
    "###  numpy is (to reshape the data ! ) \n",
    "#### what is difference between shallow copy deep copy?"
   ]
  },
  {
   "cell_type": "code",
   "execution_count": 39,
   "id": "5a8f2b2a-e92f-43dc-81d6-582efd0124a7",
   "metadata": {},
   "outputs": [],
   "source": [
    "import numpy as np"
   ]
  },
  {
   "cell_type": "code",
   "execution_count": 9,
   "id": "7bbec0aa-3608-400b-b918-228eace55340",
   "metadata": {},
   "outputs": [
    {
     "data": {
      "text/plain": [
       "array([], dtype=float64)"
      ]
     },
     "execution_count": 9,
     "metadata": {},
     "output_type": "execute_result"
    }
   ],
   "source": [
    "arr1=np.array([])\n",
    "arr1"
   ]
  },
  {
   "cell_type": "code",
   "execution_count": 11,
   "id": "3ade730a-ab2b-4767-8bc5-6845c4e8f53e",
   "metadata": {},
   "outputs": [
    {
     "name": "stdout",
     "output_type": "stream",
     "text": [
      "[10, 20, 30, 40, 50, 60]\n"
     ]
    },
    {
     "data": {
      "text/plain": [
       "list"
      ]
     },
     "execution_count": 11,
     "metadata": {},
     "output_type": "execute_result"
    }
   ],
   "source": [
    "ya_list = [10,20,30,40,50,60]\n",
    "print(ya_list)\n",
    "type(ya_list)"
   ]
  },
  {
   "cell_type": "code",
   "execution_count": 13,
   "id": "4f8065ad-c3e1-4010-aecf-d231258b6a49",
   "metadata": {},
   "outputs": [
    {
     "name": "stdout",
     "output_type": "stream",
     "text": [
      "[10 20 30 40 50 60]\n"
     ]
    },
    {
     "data": {
      "text/plain": [
       "numpy.ndarray"
      ]
     },
     "execution_count": 13,
     "metadata": {},
     "output_type": "execute_result"
    }
   ],
   "source": [
    "a= np.array(ya_list)\n",
    "print(a)\n",
    "type(a)"
   ]
  },
  {
   "cell_type": "code",
   "execution_count": 15,
   "id": "feffefda-fe52-4117-b25d-e4162ec803ca",
   "metadata": {},
   "outputs": [
    {
     "data": {
      "text/plain": [
       "1"
      ]
     },
     "execution_count": 15,
     "metadata": {},
     "output_type": "execute_result"
    }
   ],
   "source": [
    "a.ndim"
   ]
  },
  {
   "cell_type": "code",
   "execution_count": 17,
   "id": "d2e779b9-243c-4b07-b7d5-d92a1c21035b",
   "metadata": {},
   "outputs": [
    {
     "data": {
      "text/plain": [
       "6"
      ]
     },
     "execution_count": 17,
     "metadata": {},
     "output_type": "execute_result"
    }
   ],
   "source": [
    "a.size"
   ]
  },
  {
   "cell_type": "code",
   "execution_count": 19,
   "id": "1267aeec-8754-4e34-a958-38a22006a0e2",
   "metadata": {},
   "outputs": [
    {
     "data": {
      "text/plain": [
       "(6,)"
      ]
     },
     "execution_count": 19,
     "metadata": {},
     "output_type": "execute_result"
    }
   ],
   "source": [
    "a.shape "
   ]
  },
  {
   "cell_type": "code",
   "execution_count": 21,
   "id": "ddea7003-f936-49fc-8cd8-3062f9aee6eb",
   "metadata": {},
   "outputs": [
    {
     "data": {
      "text/plain": [
       "[[1, 2, 3, 4], [5, 6, 7, 8], [9, 10, 11, 12]]"
      ]
     },
     "execution_count": 21,
     "metadata": {},
     "output_type": "execute_result"
    }
   ],
   "source": [
    "my_matrix = [[1,2,3,4,],[5,6,7,8],[9,10,11,12]]   #### image processing are use in matrix \n",
    "my_matrix"
   ]
  },
  {
   "cell_type": "code",
   "execution_count": 23,
   "id": "81dabb0e-97eb-435a-b6dd-bc5528cdad35",
   "metadata": {},
   "outputs": [
    {
     "data": {
      "text/plain": [
       "array([[ 1,  2,  3,  4],\n",
       "       [ 5,  6,  7,  8],\n",
       "       [ 9, 10, 11, 12]])"
      ]
     },
     "execution_count": 23,
     "metadata": {},
     "output_type": "execute_result"
    }
   ],
   "source": [
    "b=np.array(my_matrix)\n",
    "b"
   ]
  },
  {
   "cell_type": "code",
   "execution_count": 25,
   "id": "d63c75dd-9517-4d82-a316-680918ff2b6c",
   "metadata": {},
   "outputs": [
    {
     "data": {
      "text/plain": [
       "2"
      ]
     },
     "execution_count": 25,
     "metadata": {},
     "output_type": "execute_result"
    }
   ],
   "source": [
    "b.ndim"
   ]
  },
  {
   "cell_type": "code",
   "execution_count": 29,
   "id": "eab073ed-cb96-43b7-b37f-6da1b68fe75c",
   "metadata": {},
   "outputs": [
    {
     "data": {
      "text/plain": [
       "12"
      ]
     },
     "execution_count": 29,
     "metadata": {},
     "output_type": "execute_result"
    }
   ],
   "source": [
    "b.size"
   ]
  },
  {
   "cell_type": "code",
   "execution_count": 31,
   "id": "7648f6a1-1b7b-49e9-b94c-6fb0a543864b",
   "metadata": {},
   "outputs": [
    {
     "data": {
      "text/plain": [
       "(3, 4)"
      ]
     },
     "execution_count": 31,
     "metadata": {},
     "output_type": "execute_result"
    }
   ],
   "source": [
    "b.shape"
   ]
  },
  {
   "cell_type": "code",
   "execution_count": 33,
   "id": "d1158622-7f9f-483d-9c8f-0cda8cd1fd8b",
   "metadata": {},
   "outputs": [
    {
     "data": {
      "text/plain": [
       "dtype('int32')"
      ]
     },
     "execution_count": 33,
     "metadata": {},
     "output_type": "execute_result"
    }
   ],
   "source": [
    "b.dtype"
   ]
  },
  {
   "cell_type": "code",
   "execution_count": 35,
   "id": "c0a3a718-df14-4c0a-ac12-ed51d115ede5",
   "metadata": {},
   "outputs": [
    {
     "data": {
      "text/plain": [
       "numpy.ndarray"
      ]
     },
     "execution_count": 35,
     "metadata": {},
     "output_type": "execute_result"
    }
   ],
   "source": [
    "type(b)"
   ]
  },
  {
   "cell_type": "code",
   "execution_count": 148,
   "id": "a5033fa8-8526-45c8-8e8d-8213569e92d5",
   "metadata": {},
   "outputs": [
    {
     "data": {
      "text/plain": [
       "array([[ 1,  2,  3,  4,  5,  6,  7,  8,  9, 10, 11, 12]])"
      ]
     },
     "execution_count": 148,
     "metadata": {},
     "output_type": "execute_result"
    }
   ],
   "source": [
    "arr1=np.array([[1,2,3,4,5,6,7,8,9,10,11,12]])\n",
    "arr1"
   ]
  },
  {
   "cell_type": "code",
   "execution_count": 41,
   "id": "f623909b-eea3-4082-a10f-bf8e2c226bfe",
   "metadata": {},
   "outputs": [
    {
     "data": {
      "text/plain": [
       "3"
      ]
     },
     "execution_count": 41,
     "metadata": {},
     "output_type": "execute_result"
    }
   ],
   "source": [
    "arr1.ndim\n"
   ]
  },
  {
   "cell_type": "code",
   "execution_count": 43,
   "id": "b85e60eb-fb8b-47fb-877c-12fc915768eb",
   "metadata": {},
   "outputs": [
    {
     "data": {
      "text/plain": [
       "12"
      ]
     },
     "execution_count": 43,
     "metadata": {},
     "output_type": "execute_result"
    }
   ],
   "source": [
    "arr1.size"
   ]
  },
  {
   "cell_type": "code",
   "execution_count": 45,
   "id": "90796ee6-0a95-4c20-b760-8733eb06a926",
   "metadata": {},
   "outputs": [
    {
     "data": {
      "text/plain": [
       "(2, 2, 3)"
      ]
     },
     "execution_count": 45,
     "metadata": {},
     "output_type": "execute_result"
    }
   ],
   "source": [
    "arr1.shape "
   ]
  },
  {
   "cell_type": "markdown",
   "id": "0e185315-68f9-4b9f-a127-fc8cce9af6f7",
   "metadata": {},
   "source": [
    "### built in method"
   ]
  },
  {
   "cell_type": "code",
   "execution_count": 54,
   "id": "cab0e6d8-3f5a-4522-adae-bc71332ec2fe",
   "metadata": {},
   "outputs": [],
   "source": [
    "arr2=arr1.reshape((1,3,4))"
   ]
  },
  {
   "cell_type": "code",
   "execution_count": 56,
   "id": "367747dd-149f-482a-a800-19494585b5de",
   "metadata": {},
   "outputs": [
    {
     "data": {
      "text/plain": [
       "(1, 3, 4)"
      ]
     },
     "execution_count": 56,
     "metadata": {},
     "output_type": "execute_result"
    }
   ],
   "source": [
    "arr2.shape"
   ]
  },
  {
   "cell_type": "code",
   "execution_count": 58,
   "id": "8c3f3fe1-771b-45fd-bba4-f5e2c90b51c7",
   "metadata": {},
   "outputs": [
    {
     "data": {
      "text/plain": [
       "array([[[ 1,  2,  3,  4],\n",
       "        [ 5,  6,  7,  8],\n",
       "        [ 9, 10, 11, 12]]])"
      ]
     },
     "execution_count": 58,
     "metadata": {},
     "output_type": "execute_result"
    }
   ],
   "source": [
    "arr2"
   ]
  },
  {
   "cell_type": "markdown",
   "id": "fbff18f7-23f6-430b-bcaf-9ec5548d77c5",
   "metadata": {},
   "source": [
    "### arange "
   ]
  },
  {
   "cell_type": "code",
   "execution_count": 63,
   "id": "8d496701-bff0-4738-85cb-006d05f7224d",
   "metadata": {},
   "outputs": [
    {
     "data": {
      "text/plain": [
       "array([ 0,  1,  2,  3,  4,  5,  6,  7,  8,  9, 10, 11, 12, 13, 14])"
      ]
     },
     "execution_count": 63,
     "metadata": {},
     "output_type": "execute_result"
    }
   ],
   "source": [
    "np.arange(15)  #### end, default start at 0"
   ]
  },
  {
   "cell_type": "code",
   "execution_count": 69,
   "id": "2ce22f24-6861-4d98-a1ef-6bf1c199b893",
   "metadata": {},
   "outputs": [
    {
     "data": {
      "text/plain": [
       "array([100,  96,  92,  88,  84,  80,  76,  72,  68,  64,  60,  56,  52,\n",
       "        48,  44,  40,  36,  32,  28,  24,  20,  16,  12,   8,   4])"
      ]
     },
     "execution_count": 69,
     "metadata": {},
     "output_type": "execute_result"
    }
   ],
   "source": [
    "np.arange(100,2,-4)"
   ]
  },
  {
   "cell_type": "code",
   "execution_count": 67,
   "id": "6a1f6a4f-ee31-4f70-9804-d0e2272349d5",
   "metadata": {},
   "outputs": [
    {
     "data": {
      "text/plain": [
       "array([ 0,  2,  4,  6,  8, 10])"
      ]
     },
     "execution_count": 67,
     "metadata": {},
     "output_type": "execute_result"
    }
   ],
   "source": [
    "np.arange(0,11,2)"
   ]
  },
  {
   "cell_type": "markdown",
   "id": "d8c73db3-570a-4a6e-bdb4-d4a3c5e8f06e",
   "metadata": {},
   "source": [
    "#### zero and ones "
   ]
  },
  {
   "cell_type": "code",
   "execution_count": 72,
   "id": "6a9a2933-7c77-4a7e-adc4-27e2203d278e",
   "metadata": {},
   "outputs": [],
   "source": [
    "import numpy as np"
   ]
  },
  {
   "cell_type": "code",
   "execution_count": 74,
   "id": "3fbdeb33-e3eb-44c2-87dd-b4125f1bb4e2",
   "metadata": {},
   "outputs": [
    {
     "data": {
      "text/plain": [
       "array([0., 0., 0.])"
      ]
     },
     "execution_count": 74,
     "metadata": {},
     "output_type": "execute_result"
    }
   ],
   "source": [
    "np.zeros(3)"
   ]
  },
  {
   "cell_type": "code",
   "execution_count": 76,
   "id": "de9cbbe3-90a2-4d40-93c1-3e02f21584c4",
   "metadata": {},
   "outputs": [
    {
     "data": {
      "text/plain": [
       "array([[0., 0., 0., 0., 0.],\n",
       "       [0., 0., 0., 0., 0.],\n",
       "       [0., 0., 0., 0., 0.],\n",
       "       [0., 0., 0., 0., 0.],\n",
       "       [0., 0., 0., 0., 0.]])"
      ]
     },
     "execution_count": 76,
     "metadata": {},
     "output_type": "execute_result"
    }
   ],
   "source": [
    "np.zeros((5,5))"
   ]
  },
  {
   "cell_type": "code",
   "execution_count": 78,
   "id": "309fb8db-b202-45d5-b512-fd7ce260bf28",
   "metadata": {},
   "outputs": [
    {
     "data": {
      "text/plain": [
       "array([1.])"
      ]
     },
     "execution_count": 78,
     "metadata": {},
     "output_type": "execute_result"
    }
   ],
   "source": [
    "np.ones(1)"
   ]
  },
  {
   "cell_type": "code",
   "execution_count": 86,
   "id": "cdcbe1fd-ea04-4a72-8e19-c98bacbb923d",
   "metadata": {},
   "outputs": [
    {
     "data": {
      "text/plain": [
       "array([1., 1., 1.])"
      ]
     },
     "execution_count": 86,
     "metadata": {},
     "output_type": "execute_result"
    }
   ],
   "source": [
    "np.ones(3)"
   ]
  },
  {
   "cell_type": "code",
   "execution_count": 88,
   "id": "b9763269-46be-456e-b18f-a92d95bd1f36",
   "metadata": {},
   "outputs": [
    {
     "data": {
      "text/plain": [
       "array([[1., 1., 1., 1., 1.],\n",
       "       [1., 1., 1., 1., 1.],\n",
       "       [1., 1., 1., 1., 1.]])"
      ]
     },
     "execution_count": 88,
     "metadata": {},
     "output_type": "execute_result"
    }
   ],
   "source": [
    "np.ones((3,5))"
   ]
  },
  {
   "cell_type": "markdown",
   "id": "70fd757a-28be-4d31-b76c-d965bb2eea69",
   "metadata": {},
   "source": [
    "### linespace"
   ]
  },
  {
   "cell_type": "markdown",
   "id": "2b1f8e4d-e43b-4794-bbbe-20e2b3f1ab35",
   "metadata": {},
   "source": [
    "# Return evenly spaced number over a specified Interval.\n"
   ]
  },
  {
   "cell_type": "code",
   "execution_count": 96,
   "id": "477e23f8-b69a-408b-aeb5-db7c68c9d618",
   "metadata": {},
   "outputs": [],
   "source": [
    "import numpy as np\n"
   ]
  },
  {
   "cell_type": "code",
   "execution_count": 100,
   "id": "5f32583b-d7d7-4f70-9b1f-3dea71a9b03a",
   "metadata": {},
   "outputs": [
    {
     "data": {
      "text/plain": [
       "array([ 1.        ,  1.28571429,  1.57142857,  1.85714286,  2.14285714,\n",
       "        2.42857143,  2.71428571,  3.        ,  3.28571429,  3.57142857,\n",
       "        3.85714286,  4.14285714,  4.42857143,  4.71428571,  5.        ,\n",
       "        5.28571429,  5.57142857,  5.85714286,  6.14285714,  6.42857143,\n",
       "        6.71428571,  7.        ,  7.28571429,  7.57142857,  7.85714286,\n",
       "        8.14285714,  8.42857143,  8.71428571,  9.        ,  9.28571429,\n",
       "        9.57142857,  9.85714286, 10.14285714, 10.42857143, 10.71428571,\n",
       "       11.        , 11.28571429, 11.57142857, 11.85714286, 12.14285714,\n",
       "       12.42857143, 12.71428571, 13.        , 13.28571429, 13.57142857,\n",
       "       13.85714286, 14.14285714, 14.42857143, 14.71428571, 15.        ])"
      ]
     },
     "execution_count": 100,
     "metadata": {},
     "output_type": "execute_result"
    }
   ],
   "source": [
    "np.linspace(1,15) ## print default 50 va"
   ]
  },
  {
   "cell_type": "code",
   "execution_count": 106,
   "id": "0a5cddde-30fe-4ca2-bcfd-c060eb362c38",
   "metadata": {},
   "outputs": [
    {
     "data": {
      "text/plain": [
       "array([ 40.        ,  41.53061224,  43.06122449,  44.59183673,\n",
       "        46.12244898,  47.65306122,  49.18367347,  50.71428571,\n",
       "        52.24489796,  53.7755102 ,  55.30612245,  56.83673469,\n",
       "        58.36734694,  59.89795918,  61.42857143,  62.95918367,\n",
       "        64.48979592,  66.02040816,  67.55102041,  69.08163265,\n",
       "        70.6122449 ,  72.14285714,  73.67346939,  75.20408163,\n",
       "        76.73469388,  78.26530612,  79.79591837,  81.32653061,\n",
       "        82.85714286,  84.3877551 ,  85.91836735,  87.44897959,\n",
       "        88.97959184,  90.51020408,  92.04081633,  93.57142857,\n",
       "        95.10204082,  96.63265306,  98.16326531,  99.69387755,\n",
       "       101.2244898 , 102.75510204, 104.28571429, 105.81632653,\n",
       "       107.34693878, 108.87755102, 110.40816327, 111.93877551,\n",
       "       113.46938776, 115.        ])"
      ]
     },
     "execution_count": 106,
     "metadata": {},
     "output_type": "execute_result"
    }
   ],
   "source": [
    "np.linspace(40,115)"
   ]
  },
  {
   "cell_type": "code",
   "execution_count": 118,
   "id": "ff3ebc0a-a4f9-4159-8384-e451d1ee28d1",
   "metadata": {},
   "outputs": [
    {
     "data": {
      "text/plain": [
       "(array([  0.,  10.,  20.,  30.,  40.,  50.,  60.,  70.,  80.,  90., 100.]),\n",
       " 10.0)"
      ]
     },
     "execution_count": 118,
     "metadata": {},
     "output_type": "execute_result"
    }
   ],
   "source": [
    "np.linspace(0,100,11,retstep=True) #### "
   ]
  },
  {
   "cell_type": "markdown",
   "id": "0a1610a8-7a75-449b-b1c6-4648c491cc40",
   "metadata": {},
   "source": [
    "# eye"
   ]
  },
  {
   "cell_type": "code",
   "execution_count": 123,
   "id": "35e95ee0-7dad-46c8-9b79-da506b87d73b",
   "metadata": {},
   "outputs": [
    {
     "data": {
      "text/plain": [
       "array([[1., 0., 0.],\n",
       "       [0., 1., 0.],\n",
       "       [0., 0., 1.]])"
      ]
     },
     "execution_count": 123,
     "metadata": {},
     "output_type": "execute_result"
    }
   ],
   "source": [
    "np.eye(3)"
   ]
  },
  {
   "cell_type": "code",
   "execution_count": 125,
   "id": "25ba6029-0335-424f-9282-a9cefaf0cfbd",
   "metadata": {},
   "outputs": [
    {
     "data": {
      "text/plain": [
       "array([[1., 0., 0., 0., 0.],\n",
       "       [0., 1., 0., 0., 0.],\n",
       "       [0., 0., 1., 0., 0.],\n",
       "       [0., 0., 0., 1., 0.],\n",
       "       [0., 0., 0., 0., 1.]])"
      ]
     },
     "execution_count": 125,
     "metadata": {},
     "output_type": "execute_result"
    }
   ],
   "source": [
    "np.eye(5) ## generate 2d array of (5,5)"
   ]
  },
  {
   "cell_type": "markdown",
   "id": "66e9b884-bc8d-435b-a516-d669a53741cf",
   "metadata": {},
   "source": [
    "## use copy function "
   ]
  },
  {
   "cell_type": "code",
   "execution_count": 150,
   "id": "6f196c75-f761-49c0-9341-060ae15ea294",
   "metadata": {},
   "outputs": [
    {
     "data": {
      "text/plain": [
       "array([[[30, 30, 30],\n",
       "        [30, 30, 30]],\n",
       "\n",
       "       [[30, 30, 30],\n",
       "        [30, 30, 30]]])"
      ]
     },
     "execution_count": 150,
     "metadata": {},
     "output_type": "execute_result"
    }
   ],
   "source": [
    "arr1= arr2\n",
    "arr1"
   ]
  },
  {
   "cell_type": "code",
   "execution_count": 152,
   "id": "7885864c-84a6-4c06-a3d3-9aa5d658c546",
   "metadata": {},
   "outputs": [
    {
     "data": {
      "text/plain": [
       "array([[[30, 30, 30],\n",
       "        [30, 30, 30]],\n",
       "\n",
       "       [[30, 30, 30],\n",
       "        [30, 30, 30]]])"
      ]
     },
     "execution_count": 152,
     "metadata": {},
     "output_type": "execute_result"
    }
   ],
   "source": [
    "arr2[:10]=30\n",
    "arr2"
   ]
  },
  {
   "cell_type": "code",
   "execution_count": 144,
   "id": "37790385-e023-4a31-9df7-b40f0dcdc698",
   "metadata": {},
   "outputs": [
    {
     "data": {
      "text/plain": [
       "array([[[30, 30, 30],\n",
       "        [30, 30, 30]],\n",
       "\n",
       "       [[30, 30, 30],\n",
       "        [30, 30, 30]]])"
      ]
     },
     "execution_count": 144,
     "metadata": {},
     "output_type": "execute_result"
    }
   ],
   "source": [
    "\n",
    "arr1"
   ]
  },
  {
   "cell_type": "code",
   "execution_count": 1,
   "id": "9fdd13bd-b463-4dc0-b06f-54d5f4ca52b9",
   "metadata": {},
   "outputs": [],
   "source": [
    "arr1=[1,2,3,4]\n",
    "arr2=[5,6,7,8] "
   ]
  },
  {
   "cell_type": "code",
   "execution_count": 7,
   "id": "69135919-ef84-4ebc-ac78-df8db91d73b1",
   "metadata": {},
   "outputs": [],
   "source": [
    "arr2 =arr1"
   ]
  },
  {
   "cell_type": "code",
   "execution_count": 9,
   "id": "885158ff-4c21-4961-b69c-59e1f2d632ef",
   "metadata": {},
   "outputs": [],
   "source": [
    "copy =arr1.copy()\n"
   ]
  },
  {
   "cell_type": "code",
   "execution_count": 25,
   "id": "256f9790-b922-4b54-8664-56c6a627271e",
   "metadata": {},
   "outputs": [
    {
     "ename": "TypeError",
     "evalue": "can only assign an iterable",
     "output_type": "error",
     "traceback": [
      "\u001b[1;31m---------------------------------------------------------------------------\u001b[0m",
      "\u001b[1;31mTypeError\u001b[0m                                 Traceback (most recent call last)",
      "Cell \u001b[1;32mIn[25], line 1\u001b[0m\n\u001b[1;32m----> 1\u001b[0m arr2[:\u001b[38;5;241m10\u001b[39m]\u001b[38;5;241m=\u001b[39m\u001b[38;5;241m30\u001b[39m\n\u001b[0;32m      2\u001b[0m arr2\n",
      "\u001b[1;31mTypeError\u001b[0m: can only assign an iterable"
     ]
    }
   ],
   "source": [
    "arr2[:10]=30\n",
    "arr2"
   ]
  },
  {
   "cell_type": "code",
   "execution_count": 21,
   "id": "04c45e07-7109-4ad9-8bc1-ff6178fefd98",
   "metadata": {},
   "outputs": [
    {
     "data": {
      "text/plain": [
       "[1, 2, 3, 4]"
      ]
     },
     "execution_count": 21,
     "metadata": {},
     "output_type": "execute_result"
    }
   ],
   "source": [
    "arr1"
   ]
  },
  {
   "cell_type": "code",
   "execution_count": 27,
   "id": "c506f6de-dc57-43c8-8735-72c2d74b828a",
   "metadata": {},
   "outputs": [
    {
     "data": {
      "text/plain": [
       "[1, 2, 3, 4]"
      ]
     },
     "execution_count": 27,
     "metadata": {},
     "output_type": "execute_result"
    }
   ],
   "source": [
    "arr2"
   ]
  },
  {
   "cell_type": "code",
   "execution_count": 29,
   "id": "629c14b3-1420-4a33-a776-0d3d8b5775e5",
   "metadata": {},
   "outputs": [
    {
     "data": {
      "text/plain": [
       "[1, 2, 3, 4]"
      ]
     },
     "execution_count": 29,
     "metadata": {},
     "output_type": "execute_result"
    }
   ],
   "source": [
    "copy"
   ]
  },
  {
   "cell_type": "code",
   "execution_count": 41,
   "id": "4bb0d2a1-95cd-46b2-b725-ed48ce8cfd9c",
   "metadata": {},
   "outputs": [],
   "source": [
    "arr1=np.array([])\n",
    "my_arr=[1,2,3,4,5,6,7,8,9,0]\n",
    "a =np.array(my_arr)\n"
   ]
  },
  {
   "cell_type": "markdown",
   "id": "44cd1852-496e-4644-947d-67923c37ad7c",
   "metadata": {},
   "source": [
    "## random"
   ]
  },
  {
   "cell_type": "code",
   "execution_count": 44,
   "id": "8af7923a-8e78-4aea-b6c6-8c79ef7e5aea",
   "metadata": {},
   "outputs": [
    {
     "data": {
      "text/plain": [
       "0.5760153230410205"
      ]
     },
     "execution_count": 44,
     "metadata": {},
     "output_type": "execute_result"
    }
   ],
   "source": [
    "np.random.rand()\n"
   ]
  },
  {
   "cell_type": "code",
   "execution_count": 47,
   "id": "17543ef6-dfb2-4bb3-a2a7-3fb13b849cdf",
   "metadata": {},
   "outputs": [
    {
     "data": {
      "text/plain": [
       "array([0.70084648, 0.57344846, 0.26721105, 0.30281942, 0.00377387,\n",
       "       0.49799983, 0.2029992 , 0.53863849, 0.60245422, 0.94221143,\n",
       "       0.56726291, 0.58201318, 0.03611391, 0.6305072 , 0.72063304,\n",
       "       0.39187034, 0.98021426, 0.97330493])"
      ]
     },
     "execution_count": 47,
     "metadata": {},
     "output_type": "execute_result"
    }
   ],
   "source": [
    "np.random.rand(18)\n"
   ]
  },
  {
   "cell_type": "code",
   "execution_count": 53,
   "id": "0955d28f-9df5-4749-a994-971a2b6e589e",
   "metadata": {},
   "outputs": [
    {
     "data": {
      "text/plain": [
       "array([[0.41367602, 0.25198446, 0.20593088, 0.45875847, 0.73936082],\n",
       "       [0.41292524, 0.62654855, 0.90854902, 0.93695109, 0.89482717]])"
      ]
     },
     "execution_count": 53,
     "metadata": {},
     "output_type": "execute_result"
    }
   ],
   "source": [
    "np.random.rand(10).reshape((2,5))\n"
   ]
  },
  {
   "cell_type": "markdown",
   "id": "d1a620d6-a6f7-49e9-9102-969bfff15a78",
   "metadata": {},
   "source": [
    "# randn"
   ]
  },
  {
   "cell_type": "code",
   "execution_count": 62,
   "id": "c927c723-fc02-4ca2-9b3b-aedb96505d55",
   "metadata": {},
   "outputs": [
    {
     "data": {
      "text/plain": [
       "array([ 0.68542424,  0.36036403,  2.44611869,  0.9730237 ,  0.72633006,\n",
       "        0.98450846, -0.05812805,  0.52019535,  1.67381949,  0.49259049,\n",
       "        0.72200247, -0.52241802, -0.72075573, -0.2393491 , -0.6033766 ,\n",
       "        0.74295457, -0.30705023, -0.08571629, -0.13633099, -0.0880057 ,\n",
       "       -3.15559495,  0.09864867, -0.18944808, -1.8798175 ,  2.2627881 ,\n",
       "        0.24520016, -0.97571345, -1.55869867, -0.64221515,  1.21273884,\n",
       "        0.46053136,  2.05109393,  1.03321594,  2.129912  ,  0.07387947,\n",
       "        0.5381299 , -0.99263571, -0.22583782, -0.73694863, -1.59373331,\n",
       "        0.098119  , -0.56722089,  0.160479  ,  0.10155428,  0.46497994,\n",
       "        1.44850369,  0.44167056,  0.13688834, -1.42857359, -1.66785707])"
      ]
     },
     "execution_count": 62,
     "metadata": {},
     "output_type": "execute_result"
    }
   ],
   "source": [
    "arr1=np.random.randn(50)\n",
    "arr1"
   ]
  },
  {
   "cell_type": "markdown",
   "id": "52de1990-a1b0-4cde-8a04-b1cef21a59f9",
   "metadata": {},
   "source": [
    "# randint"
   ]
  },
  {
   "cell_type": "code",
   "execution_count": 73,
   "id": "27adf931-1087-4190-8ec5-62b54d98c004",
   "metadata": {},
   "outputs": [
    {
     "data": {
      "text/plain": [
       "21"
      ]
     },
     "execution_count": 73,
     "metadata": {},
     "output_type": "execute_result"
    }
   ],
   "source": [
    "np.random.randint(1,100)\n"
   ]
  },
  {
   "cell_type": "code",
   "execution_count": 75,
   "id": "00e3a488-beba-400f-8cca-112e6e2401ce",
   "metadata": {},
   "outputs": [
    {
     "data": {
      "text/plain": [
       "array([81, 17, 34, 40, 81, 78, 72, 94, 98, 60])"
      ]
     },
     "execution_count": 75,
     "metadata": {},
     "output_type": "execute_result"
    }
   ],
   "source": [
    "np.random.randint(1,100,10)\n"
   ]
  },
  {
   "cell_type": "code",
   "execution_count": 79,
   "id": "856ab1b4-43cd-4b11-ad6e-9e673def824c",
   "metadata": {},
   "outputs": [
    {
     "data": {
      "text/plain": [
       "array([14, 18, 13, 15, 13, 14, 12, 16, 19, 19, 15, 18, 13, 18, 19, 19, 12,\n",
       "       15, 10, 19, 18, 16, 13, 14, 13, 12, 16, 11, 12, 14])"
      ]
     },
     "execution_count": 79,
     "metadata": {},
     "output_type": "execute_result"
    }
   ],
   "source": [
    "np.random.randint(10,20,30)\n"
   ]
  },
  {
   "cell_type": "code",
   "execution_count": null,
   "id": "f6580cef-8033-4b39-b95e-84e66204486e",
   "metadata": {},
   "outputs": [],
   "source": []
  }
 ],
 "metadata": {
  "kernelspec": {
   "display_name": "Python 3 (ipykernel)",
   "language": "python",
   "name": "python3"
  },
  "language_info": {
   "codemirror_mode": {
    "name": "ipython",
    "version": 3
   },
   "file_extension": ".py",
   "mimetype": "text/x-python",
   "name": "python",
   "nbconvert_exporter": "python",
   "pygments_lexer": "ipython3",
   "version": "3.12.4"
  }
 },
 "nbformat": 4,
 "nbformat_minor": 5
}
