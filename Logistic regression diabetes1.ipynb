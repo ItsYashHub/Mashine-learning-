{
 "cells": [
  {
   "cell_type": "code",
   "execution_count": 7,
   "id": "dc314725-214e-46c0-abe6-661fe743363e",
   "metadata": {},
   "outputs": [],
   "source": [
    "import pandas as pd\n",
    "import numpy as np\n",
    "import seaborn as sns\n",
    "import matplotlib.pyplot as plt\n",
    "%matplotlib inline\n",
    "import warnings\n",
    "warnings.filterwarnings('ignore')"
   ]
  },
  {
   "cell_type": "code",
   "execution_count": 3,
   "id": "ea975b29-3b6b-4eb2-a548-503e4f4bc225",
   "metadata": {},
   "outputs": [
    {
     "ename": "FileNotFoundError",
     "evalue": "[Errno 2] No such file or directory: 'diabetes1.csv'",
     "output_type": "error",
     "traceback": [
      "\u001b[1;31m---------------------------------------------------------------------------\u001b[0m",
      "\u001b[1;31mFileNotFoundError\u001b[0m                         Traceback (most recent call last)",
      "Cell \u001b[1;32mIn[3], line 1\u001b[0m\n\u001b[1;32m----> 1\u001b[0m data \u001b[38;5;241m=\u001b[39m pd\u001b[38;5;241m.\u001b[39mread_csv(\u001b[38;5;124m'\u001b[39m\u001b[38;5;124mdiabetes1.csv\u001b[39m\u001b[38;5;124m'\u001b[39m)\n",
      "File \u001b[1;32mC:\\data python\\Lib\\site-packages\\pandas\\io\\parsers\\readers.py:1026\u001b[0m, in \u001b[0;36mread_csv\u001b[1;34m(filepath_or_buffer, sep, delimiter, header, names, index_col, usecols, dtype, engine, converters, true_values, false_values, skipinitialspace, skiprows, skipfooter, nrows, na_values, keep_default_na, na_filter, verbose, skip_blank_lines, parse_dates, infer_datetime_format, keep_date_col, date_parser, date_format, dayfirst, cache_dates, iterator, chunksize, compression, thousands, decimal, lineterminator, quotechar, quoting, doublequote, escapechar, comment, encoding, encoding_errors, dialect, on_bad_lines, delim_whitespace, low_memory, memory_map, float_precision, storage_options, dtype_backend)\u001b[0m\n\u001b[0;32m   1013\u001b[0m kwds_defaults \u001b[38;5;241m=\u001b[39m _refine_defaults_read(\n\u001b[0;32m   1014\u001b[0m     dialect,\n\u001b[0;32m   1015\u001b[0m     delimiter,\n\u001b[1;32m   (...)\u001b[0m\n\u001b[0;32m   1022\u001b[0m     dtype_backend\u001b[38;5;241m=\u001b[39mdtype_backend,\n\u001b[0;32m   1023\u001b[0m )\n\u001b[0;32m   1024\u001b[0m kwds\u001b[38;5;241m.\u001b[39mupdate(kwds_defaults)\n\u001b[1;32m-> 1026\u001b[0m \u001b[38;5;28;01mreturn\u001b[39;00m _read(filepath_or_buffer, kwds)\n",
      "File \u001b[1;32mC:\\data python\\Lib\\site-packages\\pandas\\io\\parsers\\readers.py:620\u001b[0m, in \u001b[0;36m_read\u001b[1;34m(filepath_or_buffer, kwds)\u001b[0m\n\u001b[0;32m    617\u001b[0m _validate_names(kwds\u001b[38;5;241m.\u001b[39mget(\u001b[38;5;124m\"\u001b[39m\u001b[38;5;124mnames\u001b[39m\u001b[38;5;124m\"\u001b[39m, \u001b[38;5;28;01mNone\u001b[39;00m))\n\u001b[0;32m    619\u001b[0m \u001b[38;5;66;03m# Create the parser.\u001b[39;00m\n\u001b[1;32m--> 620\u001b[0m parser \u001b[38;5;241m=\u001b[39m TextFileReader(filepath_or_buffer, \u001b[38;5;241m*\u001b[39m\u001b[38;5;241m*\u001b[39mkwds)\n\u001b[0;32m    622\u001b[0m \u001b[38;5;28;01mif\u001b[39;00m chunksize \u001b[38;5;129;01mor\u001b[39;00m iterator:\n\u001b[0;32m    623\u001b[0m     \u001b[38;5;28;01mreturn\u001b[39;00m parser\n",
      "File \u001b[1;32mC:\\data python\\Lib\\site-packages\\pandas\\io\\parsers\\readers.py:1620\u001b[0m, in \u001b[0;36mTextFileReader.__init__\u001b[1;34m(self, f, engine, **kwds)\u001b[0m\n\u001b[0;32m   1617\u001b[0m     \u001b[38;5;28mself\u001b[39m\u001b[38;5;241m.\u001b[39moptions[\u001b[38;5;124m\"\u001b[39m\u001b[38;5;124mhas_index_names\u001b[39m\u001b[38;5;124m\"\u001b[39m] \u001b[38;5;241m=\u001b[39m kwds[\u001b[38;5;124m\"\u001b[39m\u001b[38;5;124mhas_index_names\u001b[39m\u001b[38;5;124m\"\u001b[39m]\n\u001b[0;32m   1619\u001b[0m \u001b[38;5;28mself\u001b[39m\u001b[38;5;241m.\u001b[39mhandles: IOHandles \u001b[38;5;241m|\u001b[39m \u001b[38;5;28;01mNone\u001b[39;00m \u001b[38;5;241m=\u001b[39m \u001b[38;5;28;01mNone\u001b[39;00m\n\u001b[1;32m-> 1620\u001b[0m \u001b[38;5;28mself\u001b[39m\u001b[38;5;241m.\u001b[39m_engine \u001b[38;5;241m=\u001b[39m \u001b[38;5;28mself\u001b[39m\u001b[38;5;241m.\u001b[39m_make_engine(f, \u001b[38;5;28mself\u001b[39m\u001b[38;5;241m.\u001b[39mengine)\n",
      "File \u001b[1;32mC:\\data python\\Lib\\site-packages\\pandas\\io\\parsers\\readers.py:1880\u001b[0m, in \u001b[0;36mTextFileReader._make_engine\u001b[1;34m(self, f, engine)\u001b[0m\n\u001b[0;32m   1878\u001b[0m     \u001b[38;5;28;01mif\u001b[39;00m \u001b[38;5;124m\"\u001b[39m\u001b[38;5;124mb\u001b[39m\u001b[38;5;124m\"\u001b[39m \u001b[38;5;129;01mnot\u001b[39;00m \u001b[38;5;129;01min\u001b[39;00m mode:\n\u001b[0;32m   1879\u001b[0m         mode \u001b[38;5;241m+\u001b[39m\u001b[38;5;241m=\u001b[39m \u001b[38;5;124m\"\u001b[39m\u001b[38;5;124mb\u001b[39m\u001b[38;5;124m\"\u001b[39m\n\u001b[1;32m-> 1880\u001b[0m \u001b[38;5;28mself\u001b[39m\u001b[38;5;241m.\u001b[39mhandles \u001b[38;5;241m=\u001b[39m get_handle(\n\u001b[0;32m   1881\u001b[0m     f,\n\u001b[0;32m   1882\u001b[0m     mode,\n\u001b[0;32m   1883\u001b[0m     encoding\u001b[38;5;241m=\u001b[39m\u001b[38;5;28mself\u001b[39m\u001b[38;5;241m.\u001b[39moptions\u001b[38;5;241m.\u001b[39mget(\u001b[38;5;124m\"\u001b[39m\u001b[38;5;124mencoding\u001b[39m\u001b[38;5;124m\"\u001b[39m, \u001b[38;5;28;01mNone\u001b[39;00m),\n\u001b[0;32m   1884\u001b[0m     compression\u001b[38;5;241m=\u001b[39m\u001b[38;5;28mself\u001b[39m\u001b[38;5;241m.\u001b[39moptions\u001b[38;5;241m.\u001b[39mget(\u001b[38;5;124m\"\u001b[39m\u001b[38;5;124mcompression\u001b[39m\u001b[38;5;124m\"\u001b[39m, \u001b[38;5;28;01mNone\u001b[39;00m),\n\u001b[0;32m   1885\u001b[0m     memory_map\u001b[38;5;241m=\u001b[39m\u001b[38;5;28mself\u001b[39m\u001b[38;5;241m.\u001b[39moptions\u001b[38;5;241m.\u001b[39mget(\u001b[38;5;124m\"\u001b[39m\u001b[38;5;124mmemory_map\u001b[39m\u001b[38;5;124m\"\u001b[39m, \u001b[38;5;28;01mFalse\u001b[39;00m),\n\u001b[0;32m   1886\u001b[0m     is_text\u001b[38;5;241m=\u001b[39mis_text,\n\u001b[0;32m   1887\u001b[0m     errors\u001b[38;5;241m=\u001b[39m\u001b[38;5;28mself\u001b[39m\u001b[38;5;241m.\u001b[39moptions\u001b[38;5;241m.\u001b[39mget(\u001b[38;5;124m\"\u001b[39m\u001b[38;5;124mencoding_errors\u001b[39m\u001b[38;5;124m\"\u001b[39m, \u001b[38;5;124m\"\u001b[39m\u001b[38;5;124mstrict\u001b[39m\u001b[38;5;124m\"\u001b[39m),\n\u001b[0;32m   1888\u001b[0m     storage_options\u001b[38;5;241m=\u001b[39m\u001b[38;5;28mself\u001b[39m\u001b[38;5;241m.\u001b[39moptions\u001b[38;5;241m.\u001b[39mget(\u001b[38;5;124m\"\u001b[39m\u001b[38;5;124mstorage_options\u001b[39m\u001b[38;5;124m\"\u001b[39m, \u001b[38;5;28;01mNone\u001b[39;00m),\n\u001b[0;32m   1889\u001b[0m )\n\u001b[0;32m   1890\u001b[0m \u001b[38;5;28;01massert\u001b[39;00m \u001b[38;5;28mself\u001b[39m\u001b[38;5;241m.\u001b[39mhandles \u001b[38;5;129;01mis\u001b[39;00m \u001b[38;5;129;01mnot\u001b[39;00m \u001b[38;5;28;01mNone\u001b[39;00m\n\u001b[0;32m   1891\u001b[0m f \u001b[38;5;241m=\u001b[39m \u001b[38;5;28mself\u001b[39m\u001b[38;5;241m.\u001b[39mhandles\u001b[38;5;241m.\u001b[39mhandle\n",
      "File \u001b[1;32mC:\\data python\\Lib\\site-packages\\pandas\\io\\common.py:873\u001b[0m, in \u001b[0;36mget_handle\u001b[1;34m(path_or_buf, mode, encoding, compression, memory_map, is_text, errors, storage_options)\u001b[0m\n\u001b[0;32m    868\u001b[0m \u001b[38;5;28;01melif\u001b[39;00m \u001b[38;5;28misinstance\u001b[39m(handle, \u001b[38;5;28mstr\u001b[39m):\n\u001b[0;32m    869\u001b[0m     \u001b[38;5;66;03m# Check whether the filename is to be opened in binary mode.\u001b[39;00m\n\u001b[0;32m    870\u001b[0m     \u001b[38;5;66;03m# Binary mode does not support 'encoding' and 'newline'.\u001b[39;00m\n\u001b[0;32m    871\u001b[0m     \u001b[38;5;28;01mif\u001b[39;00m ioargs\u001b[38;5;241m.\u001b[39mencoding \u001b[38;5;129;01mand\u001b[39;00m \u001b[38;5;124m\"\u001b[39m\u001b[38;5;124mb\u001b[39m\u001b[38;5;124m\"\u001b[39m \u001b[38;5;129;01mnot\u001b[39;00m \u001b[38;5;129;01min\u001b[39;00m ioargs\u001b[38;5;241m.\u001b[39mmode:\n\u001b[0;32m    872\u001b[0m         \u001b[38;5;66;03m# Encoding\u001b[39;00m\n\u001b[1;32m--> 873\u001b[0m         handle \u001b[38;5;241m=\u001b[39m \u001b[38;5;28mopen\u001b[39m(\n\u001b[0;32m    874\u001b[0m             handle,\n\u001b[0;32m    875\u001b[0m             ioargs\u001b[38;5;241m.\u001b[39mmode,\n\u001b[0;32m    876\u001b[0m             encoding\u001b[38;5;241m=\u001b[39mioargs\u001b[38;5;241m.\u001b[39mencoding,\n\u001b[0;32m    877\u001b[0m             errors\u001b[38;5;241m=\u001b[39merrors,\n\u001b[0;32m    878\u001b[0m             newline\u001b[38;5;241m=\u001b[39m\u001b[38;5;124m\"\u001b[39m\u001b[38;5;124m\"\u001b[39m,\n\u001b[0;32m    879\u001b[0m         )\n\u001b[0;32m    880\u001b[0m     \u001b[38;5;28;01melse\u001b[39;00m:\n\u001b[0;32m    881\u001b[0m         \u001b[38;5;66;03m# Binary mode\u001b[39;00m\n\u001b[0;32m    882\u001b[0m         handle \u001b[38;5;241m=\u001b[39m \u001b[38;5;28mopen\u001b[39m(handle, ioargs\u001b[38;5;241m.\u001b[39mmode)\n",
      "\u001b[1;31mFileNotFoundError\u001b[0m: [Errno 2] No such file or directory: 'diabetes1.csv'"
     ]
    }
   ],
   "source": [
    "data = pd.read_csv('diabetes1.csv')"
   ]
  },
  {
   "cell_type": "code",
   "execution_count": 9,
   "id": "72fa5149-9416-4153-8589-54b25c00279b",
   "metadata": {},
   "outputs": [
    {
     "ename": "NameError",
     "evalue": "name 'data' is not defined",
     "output_type": "error",
     "traceback": [
      "\u001b[1;31m---------------------------------------------------------------------------\u001b[0m",
      "\u001b[1;31mNameError\u001b[0m                                 Traceback (most recent call last)",
      "Cell \u001b[1;32mIn[9], line 1\u001b[0m\n\u001b[1;32m----> 1\u001b[0m \u001b[38;5;28mprint\u001b[39m(data)\n",
      "\u001b[1;31mNameError\u001b[0m: name 'data' is not defined"
     ]
    }
   ],
   "source": [
    "print(data)"
   ]
  },
  {
   "cell_type": "code",
   "execution_count": null,
   "id": "58f0fc6c-1349-4dfd-9866-1fec9b000d37",
   "metadata": {},
   "outputs": [],
   "source": [
    "print(data.head())"
   ]
  },
  {
   "cell_type": "code",
   "execution_count": null,
   "id": "8b3ac56b-d78d-40fe-a3c4-5326f4f90e50",
   "metadata": {},
   "outputs": [],
   "source": [
    "print(data.tail())"
   ]
  },
  {
   "cell_type": "code",
   "execution_count": null,
   "id": "1bc0a1c4-eb4c-48a0-87a3-a188e5d5ed77",
   "metadata": {},
   "outputs": [],
   "source": [
    "#statistical\n",
    "print(data.describe().T)"
   ]
  },
  {
   "cell_type": "code",
   "execution_count": null,
   "id": "877ac5a7-498b-49c4-85ad-020a600bef6d",
   "metadata": {},
   "outputs": [],
   "source": [
    "# data is corrupted as it shows that glucose, BP, SkinThickness etc cannot be zero"
   ]
  },
  {
   "cell_type": "code",
   "execution_count": null,
   "id": "0f52a0d6-7b51-4c38-af53-a48c689ffae0",
   "metadata": {},
   "outputs": [],
   "source": [
    "print(data.info())"
   ]
  },
  {
   "cell_type": "code",
   "execution_count": null,
   "id": "c341453f-256f-4c2e-bf42-c64c13793413",
   "metadata": {},
   "outputs": [],
   "source": [
    "# checking missing values\n",
    "data.isnull().sum()"
   ]
  },
  {
   "cell_type": "code",
   "execution_count": null,
   "id": "b53f2f3a-f753-40c0-8d92-3c0373235b21",
   "metadata": {},
   "outputs": [],
   "source": [
    "# to find count of diabetic and non-diabetib\n",
    "print(data.Outcome.unique())"
   ]
  },
  {
   "cell_type": "code",
   "execution_count": null,
   "id": "d52f40e1-21fd-4a35-b681-a3cd62a6b02e",
   "metadata": {},
   "outputs": [],
   "source": [
    "print(data.Outcome.value_counts())"
   ]
  },
  {
   "cell_type": "markdown",
   "id": "3a1c788b-dfc2-4472-9ba8-0f25ee074fbe",
   "metadata": {},
   "source": [
    "## Exploratory data Analysis"
   ]
  },
  {
   "cell_type": "markdown",
   "id": "517ef692-9b69-494c-95bb-36427e02a2c4",
   "metadata": {},
   "source": [
    "### Univariate"
   ]
  },
  {
   "cell_type": "markdown",
   "id": "d5c5f262-2351-4847-953a-5b1e6292a5e5",
   "metadata": {},
   "source": [
    "* hist plot to check distribution of data\n",
    "* count plot to check data is balanced or not"
   ]
  },
  {
   "cell_type": "code",
   "execution_count": null,
   "id": "8a476ee8-a9eb-44c9-8e6a-3231a91e6a08",
   "metadata": {},
   "outputs": [],
   "source": [
    "sns.countplot(x=data.Outcome)\n",
    "# count of diabetic and non diabetic"
   ]
  },
  {
   "cell_type": "markdown",
   "id": "0e90cfd8-0e1f-48f5-9801-82f293ac73f0",
   "metadata": {},
   "source": [
    "* data is imbalanced as more records of non diabetic compared of diabetic"
   ]
  },
  {
   "cell_type": "code",
   "execution_count": null,
   "id": "87c83909-0fa3-4a8c-bd92-9bc399f8d895",
   "metadata": {},
   "outputs": [],
   "source": [
    "sns.countplot(x=data.Pregnancies)"
   ]
  },
  {
   "cell_type": "code",
   "execution_count": null,
   "id": "feafd9c8-7fa5-43c5-9261-44b983753a6c",
   "metadata": {},
   "outputs": [],
   "source": [
    "data.Pregnancies.value_counts()"
   ]
  },
  {
   "cell_type": "code",
   "execution_count": null,
   "id": "9468db11-edd7-44a4-b28a-e351c91aff55",
   "metadata": {},
   "outputs": [],
   "source": [
    "plt.figure(figsize=(20,25),facecolor='lightblue')\n",
    "plotnumber = 1\n",
    "for column in data:\n",
    "    if plotnumber <= 9: # 9 columns\n",
    "        ax = plt.subplot(3,3,plotnumber)\n",
    "        sns.histplot(data[column]) # for each column\n",
    "        plt.xlabel(column,fontsize=20)\n",
    "        plt.ylabel('count',fontsize=20)\n",
    "    plotnumber+=1\n",
    "plt.tight_layout"
   ]
  },
  {
   "cell_type": "code",
   "execution_count": null,
   "id": "5f548dc3-7ffb-4ca8-95ca-6c8681b33c98",
   "metadata": {},
   "outputs": [],
   "source": [
    "plt.figure(figsize=(20,25),facecolor='lightblue')\n",
    "plotnumber = 1\n",
    "for column in data:\n",
    "    if plotnumber <= 9: # 9 columns\n",
    "        ax = plt.subplot(3,3,plotnumber)\n",
    "        sns.histplot(data[column],kde=True) # for each column\n",
    "        plt.xlabel(column,fontsize=20)\n",
    "        plt.ylabel('count',fontsize=20)\n",
    "    plotnumber+=1\n",
    "plt.tight_layout"
   ]
  },
  {
   "cell_type": "markdown",
   "id": "9e16c6c8-4d3a-40f3-b761-5001300e91f6",
   "metadata": {},
   "source": [
    "* glucose, BP, BMI representing normal distribution"
   ]
  },
  {
   "cell_type": "markdown",
   "id": "204036d2-8e57-4962-9e84-88754b5bde50",
   "metadata": {},
   "source": [
    "### Bivariate"
   ]
  },
  {
   "cell_type": "code",
   "execution_count": null,
   "id": "a2a4da84-f31e-4932-aae6-345adb5ddfa8",
   "metadata": {},
   "outputs": [],
   "source": [
    "# Analyzing how preganancies impact the patient with diabetes."
   ]
  },
  {
   "cell_type": "code",
   "execution_count": null,
   "id": "dad805b0-1671-4f8a-a484-2f72126717d7",
   "metadata": {},
   "outputs": [],
   "source": [
    "sns.countplot(x='Pregnancies',data=data, hue='Outcome')"
   ]
  },
  {
   "cell_type": "markdown",
   "id": "c3aab8ed-39a2-4dbc-95b7-4ece2997ba5f",
   "metadata": {},
   "source": [
    "* if a patient is pregnent, probability of being diabetes if high\n"
   ]
  },
  {
   "cell_type": "code",
   "execution_count": null,
   "id": "fbb2f866-207a-4be0-a359-2916894ef584",
   "metadata": {},
   "outputs": [],
   "source": [
    "# Aanlyzing the relationship between diabetes and Glucose"
   ]
  },
  {
   "cell_type": "code",
   "execution_count": null,
   "id": "845452ea-409a-486a-a2c8-526e5e1f0ff0",
   "metadata": {},
   "outputs": [],
   "source": [
    "sns.histplot(data=data, x='Glucose', hue='Outcome')"
   ]
  },
  {
   "cell_type": "markdown",
   "id": "74c8b899-fbc5-4e9f-b036-4bf8dda0cf3e",
   "metadata": {},
   "source": [
    "* if glucose level is less the chance of being diabetic is also less\n",
    "* if glucose level is high the chance of being diabetic is also high\n",
    "* A person having glucose range between 100 to 150 is equaly at risk and no risk\n",
    "* A person having glucose range above 150 is has higher chance of getting diabetes\n",
    "* A person having glucose range bolow 100 is has lesser chance of getting diabetes\n",
    "\n"
   ]
  },
  {
   "cell_type": "code",
   "execution_count": null,
   "id": "e21ee092-0bcb-47dc-9477-b1df05bfd17a",
   "metadata": {},
   "outputs": [],
   "source": [
    "# Analyze Glucose with blood pressure"
   ]
  },
  {
   "cell_type": "code",
   "execution_count": null,
   "id": "740aad13-c9f0-4ef1-820b-ace8283768d1",
   "metadata": {},
   "outputs": [],
   "source": [
    "sns.histplot(data=data, x='BloodPressure', hue='Outcome')"
   ]
  },
  {
   "cell_type": "markdown",
   "id": "021ac884-d102-4034-951a-a27a26cfd41f",
   "metadata": {},
   "source": [
    "* A person having BP range between 50 to 100 is equaly at risk and no risk\n",
    "* A person having BP range above 100 and below 50 has lesser chance of getting diabetes\n"
   ]
  },
  {
   "cell_type": "code",
   "execution_count": null,
   "id": "68ec4bd7-b49b-46ce-b2ad-6e304f4ac16d",
   "metadata": {},
   "outputs": [],
   "source": [
    "# Analyzing Insulin with target\n",
    "sns.histplot(x='Insulin',hue='Outcome',data=data)"
   ]
  },
  {
   "cell_type": "markdown",
   "id": "2caa57ff-916c-44cd-9764-4a4b36032fc3",
   "metadata": {},
   "source": [
    "* the chance of being diabetic is high if insulin level is high\n",
    "* The chance of being diabetic is less if insulin level is less"
   ]
  },
  {
   "cell_type": "code",
   "execution_count": null,
   "id": "538b858a-9050-47d4-8c61-3b50efab7bc9",
   "metadata": {},
   "outputs": [],
   "source": [
    "# Analyzing age with outcome\n",
    "sns.histplot(x='Age',hue='Outcome',data=data)"
   ]
  },
  {
   "cell_type": "markdown",
   "id": "a684a531-4750-4b4e-b646-ff0e09da3915",
   "metadata": {},
   "source": [
    "* the chance of being diabetic is high if age is more\n",
    "* The chance of being diabetic is less if age is less"
   ]
  },
  {
   "cell_type": "code",
   "execution_count": null,
   "id": "0dd25559-2dc8-4da1-8fca-c992594eb05c",
   "metadata": {},
   "outputs": [],
   "source": [
    "#Analyse Glucose and BP\n",
    "sns.scatterplot(x='Glucose', y='BloodPressure', hue='Outcome',data=data)"
   ]
  },
  {
   "cell_type": "markdown",
   "id": "affeeae0-73ab-4f3e-ae4a-1306c045e94e",
   "metadata": {},
   "source": [
    "* The patient with less glucose level and BP will have less chance of being diabetic\n",
    "* The patient with high glucose level and BP will have high chance of being diabetic"
   ]
  },
  {
   "cell_type": "markdown",
   "id": "32ccfe96-55d8-4a42-9467-8331f39fdd31",
   "metadata": {},
   "source": [
    "## Data Preprocessing and Feature Engineering."
   ]
  },
  {
   "cell_type": "code",
   "execution_count": null,
   "id": "4622b0ad-49b1-4057-b130-07fa5f9c0851",
   "metadata": {},
   "outputs": [],
   "source": [
    "data.isnull().sum()"
   ]
  },
  {
   "cell_type": "code",
   "execution_count": null,
   "id": "f1fccedd-d78d-4f97-9fb6-e180ea27c238",
   "metadata": {},
   "outputs": [],
   "source": [
    "# no missing data so no need to handel it"
   ]
  },
  {
   "cell_type": "markdown",
   "id": "a3c38a55-1a0d-4b80-9e1b-4129eeb41ab1",
   "metadata": {},
   "source": [
    "#### Handle corrupted data"
   ]
  },
  {
   "cell_type": "code",
   "execution_count": null,
   "id": "b3df1a9e-e777-4609-ab95-9376cf72d52c",
   "metadata": {},
   "outputs": [],
   "source": [
    "# Glucose, BP, insulin, bmi, skinthickness cannot have value in zero\n",
    "# Replace all zero values with median"
   ]
  },
  {
   "cell_type": "code",
   "execution_count": null,
   "id": "fb62a726-00c6-4a01-b39d-650324e7c829",
   "metadata": {},
   "outputs": [],
   "source": [
    "data.Glucose.replace(0,np.median(data.Glucose),inplace=True)\n",
    "# replace 0 value from glucose column with median of glucose"
   ]
  },
  {
   "cell_type": "code",
   "execution_count": null,
   "id": "c1faeb08-073a-4811-b22a-ddd96c8cc6f9",
   "metadata": {},
   "outputs": [],
   "source": [
    "data.BloodPressure.replace(0,np.median(data.BloodPressure),inplace=True)"
   ]
  },
  {
   "cell_type": "code",
   "execution_count": null,
   "id": "6ce2f2c9-298d-43e9-8209-0ec6b0127658",
   "metadata": {},
   "outputs": [],
   "source": [
    "data.SkinThickness.replace(0,np.median(data.SkinThickness),inplace=True)"
   ]
  },
  {
   "cell_type": "code",
   "execution_count": null,
   "id": "5c850945-a97d-4567-adb4-f7ba911a0024",
   "metadata": {},
   "outputs": [],
   "source": [
    "data.Insulin.replace(0,np.median(data.Insulin),inplace=True)\n"
   ]
  },
  {
   "cell_type": "code",
   "execution_count": null,
   "id": "a44e4f4a-085c-4b99-b7e6-1d6086f73ede",
   "metadata": {},
   "outputs": [],
   "source": [
    "data.BMI.replace(0,np.median(data.BMI),inplace=True)"
   ]
  },
  {
   "cell_type": "code",
   "execution_count": null,
   "id": "99e7e288-037e-44b2-bb56-eff1962db437",
   "metadata": {},
   "outputs": [],
   "source": [
    "data.describe()"
   ]
  },
  {
   "cell_type": "markdown",
   "id": "a1b7d58f-bfad-4570-82cd-265b1a7fd0bf",
   "metadata": {},
   "source": [
    "#### Check for outliers"
   ]
  },
  {
   "cell_type": "code",
   "execution_count": null,
   "id": "e853523c-67c3-4d9b-82a9-05d894f7ea9b",
   "metadata": {},
   "outputs": [],
   "source": [
    "plt.figure(figsize=(20,25),facecolor='lightblue')\n",
    "plotnumber = 1\n",
    "for column in data.drop('Outcome',axis=1): # as box plot is only for continous data and outcome has discrete data (0 and 1) hence drop it\n",
    "    if plotnumber <= 9: # 9 columns\n",
    "        ax = plt.subplot(3,3,plotnumber)\n",
    "        sns.boxplot(data[column]) # for each column\n",
    "        plt.xlabel(column,fontsize=20)\n",
    "        plt.ylabel('count',fontsize=20)\n",
    "    plotnumber+=1\n",
    "plt.tight_layout"
   ]
  },
  {
   "cell_type": "markdown",
   "id": "15175fd6-3eda-468d-8a87-3e3954c2055d",
   "metadata": {},
   "source": [
    "#### Scaling data (Normalization or Standardization)"
   ]
  },
  {
   "cell_type": "code",
   "execution_count": null,
   "id": "e3283024-89ea-4d01-85bb-6fe64286845d",
   "metadata": {},
   "outputs": [],
   "source": [
    "# minmax scaler \n",
    "from sklearn.preprocessing import MinMaxScaler\n",
    "sc = MinMaxScaler()"
   ]
  },
  {
   "cell_type": "code",
   "execution_count": null,
   "id": "f83f2d3c-1280-43e1-b2b2-84b1159e0acf",
   "metadata": {},
   "outputs": [],
   "source": [
    "data.head()"
   ]
  },
  {
   "cell_type": "code",
   "execution_count": null,
   "id": "cdf06d40-784b-47d1-87f8-c00a39b0a0a8",
   "metadata": {},
   "outputs": [],
   "source": [
    "# apply minmax scaler on continous data\n",
    "# convert to scale from 0 to 1\n",
    "df=['Pregnancies','Outcome']\n",
    "data1 = sc.fit_transform(data.drop(df,axis=1)) # dropping discrete value column"
   ]
  },
  {
   "cell_type": "code",
   "execution_count": null,
   "id": "53f7d34c-4ca5-4f17-acf8-d727655f8e86",
   "metadata": {},
   "outputs": [],
   "source": [
    "data1"
   ]
  },
  {
   "cell_type": "code",
   "execution_count": null,
   "id": "d3e2adb8-3efd-4da1-8969-e4a4cfe5f4e0",
   "metadata": {},
   "outputs": [],
   "source": [
    "data.columns"
   ]
  },
  {
   "cell_type": "code",
   "execution_count": null,
   "id": "ced8e36e-4463-48d2-80ca-d77308157e29",
   "metadata": {},
   "outputs": [],
   "source": [
    "# convert array into dataframe\n",
    "data2 = pd.DataFrame(data1, columns=['Glucose', 'BloodPressure', 'SkinThickness', 'Insulin',\n",
    "       'BMI', 'DiabetesPedigreeFunction', 'Age'])\n",
    "data2"
   ]
  },
  {
   "cell_type": "code",
   "execution_count": null,
   "id": "d0691ff6-3713-4e7e-86b6-0a331fcfe999",
   "metadata": {},
   "outputs": [],
   "source": [
    "# data.sort_values('Age',axis=0)\n",
    "# variation in age is huge hence it is continous"
   ]
  },
  {
   "cell_type": "code",
   "execution_count": null,
   "id": "f147c8f2-67ad-4771-a1b2-dcf3ea073c3b",
   "metadata": {},
   "outputs": [],
   "source": []
  }
 ],
 "metadata": {
  "kernelspec": {
   "display_name": "Python 3 (ipykernel)",
   "language": "python",
   "name": "python3"
  },
  "language_info": {
   "codemirror_mode": {
    "name": "ipython",
    "version": 3
   },
   "file_extension": ".py",
   "mimetype": "text/x-python",
   "name": "python",
   "nbconvert_exporter": "python",
   "pygments_lexer": "ipython3",
   "version": "3.12.4"
  }
 },
 "nbformat": 4,
 "nbformat_minor": 5
}
